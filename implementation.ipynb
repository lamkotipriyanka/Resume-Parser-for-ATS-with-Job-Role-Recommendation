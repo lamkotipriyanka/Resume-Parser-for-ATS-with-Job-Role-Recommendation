{
 "cells": [
  {
   "cell_type": "markdown",
   "id": "a3ef9508",
   "metadata": {},
   "source": [
    "#### 1. Import all libraries, modules and packages."
   ]
  },
  {
   "cell_type": "code",
   "execution_count": 1,
   "id": "1e3d5298",
   "metadata": {},
   "outputs": [],
   "source": [
    "#preprocess and mine the text data\n",
    "import pandas as pd\n",
    "import re\n",
    "import string\n",
    "import docx2txt\n",
    "from pdfminer.high_level import extract_text"
   ]
  },
  {
   "cell_type": "code",
   "execution_count": 2,
   "id": "fa9659d5",
   "metadata": {},
   "outputs": [
    {
     "name": "stderr",
     "output_type": "stream",
     "text": [
      "[nltk_data] Downloading package punkt to\n",
      "[nltk_data]     C:\\Users\\Bhramar\\AppData\\Roaming\\nltk_data...\n",
      "[nltk_data]   Package punkt is already up-to-date!\n"
     ]
    }
   ],
   "source": [
    "#compute similarity between resume and job role\n",
    "import nltk\n",
    "nltk.download('punkt')\n",
    "from nltk.tokenize import word_tokenize\n",
    "from nltk.corpus import stopwords\n",
    "from nltk.probability import FreqDist\n",
    "from sklearn.feature_extraction.text import TfidfVectorizer\n",
    "from sklearn.metrics.pairwise import cosine_similarity"
   ]
  },
  {
   "cell_type": "markdown",
   "id": "b7c4ae14",
   "metadata": {},
   "source": [
    "#### 2. Define functions to extract text from pdf and doc."
   ]
  },
  {
   "cell_type": "code",
   "execution_count": 3,
   "id": "9848eb68",
   "metadata": {},
   "outputs": [],
   "source": [
    "#from pdf\n",
    "def extract_text_from_pdf(pdf_path):\n",
    "    return extract_text(pdf_path)\n",
    "\n",
    "#from docx\n",
    "def extract_text_from_docx(docx_path):\n",
    "    txt = docx2txt.process(docx_path)\n",
    "    if txt: \n",
    "        return txt.replace('\\t',' ')\n",
    "    return None"
   ]
  },
  {
   "cell_type": "markdown",
   "id": "4ef73a59",
   "metadata": {},
   "source": [
    "#### 3. Define functions to extract candidate information."
   ]
  },
  {
   "cell_type": "code",
   "execution_count": 4,
   "id": "eea333e5",
   "metadata": {},
   "outputs": [],
   "source": [
    "#extraction of name\n",
    "#match  = re.search(r'(\\b[A-Z][a-z]+\\b)\\s(\\b[A-Z][a-z]+\\b)', s)\n",
    "\n",
    "def extract_name_from_resume(s):\n",
    "    name = None\n",
    "    pattern = r\"(\\b[A-Z][a-z]+\\b)\\s(\\b[A-Z][a-z]+\\b)\"\n",
    "    match = re.search(pattern,s)\n",
    "    if match:\n",
    "        name = match.group()\n",
    "    return name"
   ]
  },
  {
   "cell_type": "code",
   "execution_count": 5,
   "id": "22978efb",
   "metadata": {},
   "outputs": [],
   "source": [
    "#Extraction of Phone number\n",
    "#match = re.findall('''(\\d{3}[-\\.\\s]??\\d{3}[-\\.\\s]??\\d{4}|\\(\\d{3}\\)[-\\.\\s]*\\d{3}[-\\.\\s]??\\d{4}|\\d{5}[-\\.\\s]??\\d{4})''',s)\n",
    "\n",
    "def extract_contact_number_from_resume(s):\n",
    "    contact_number = None\n",
    "    pattern = r\"(\\d{3}[-\\.\\s]??\\d{3}[-\\.\\s]??\\d{4}|\\(\\d{3}\\)[-\\.\\s]*\\d{3}[-\\.\\s]??\\d{4}|\\d{5}[-\\.\\s]??\\d{4})\"\n",
    "    match = re.search(pattern, s)\n",
    "    if match:\n",
    "        contact_number = match.group()\n",
    "    return contact_number"
   ]
  },
  {
   "cell_type": "code",
   "execution_count": 6,
   "id": "cf796aeb",
   "metadata": {},
   "outputs": [],
   "source": [
    "#Extraction of email\n",
    "#match = re.findall(r'[\\w\\.-]+@[\\w\\.-]+',s)   \n",
    "\n",
    "def extract_email_from_resume(s):\n",
    "    email = None\n",
    "    pattern = r\"\\b[A-Za-z0-9._%+-]+@[A-Za-z0-9.-]+\\.[A-Za-z]{2,}\\b\"\n",
    "    match = re.search(pattern,s)\n",
    "    if match:\n",
    "        email = match.group()\n",
    "    return email"
   ]
  },
  {
   "cell_type": "code",
   "execution_count": 7,
   "id": "5fb42720",
   "metadata": {},
   "outputs": [],
   "source": [
    "#Extraction of Education\n",
    "#match  = re.search(r\"(?i)(?:Bsc|\\bB\\.\\[A-Za-z]+|\\bM\\.\\[A-Za-z]+|\\bPh\\.D\\.\\[A-Za-z]+|\\bBachelor(?:'s)?|\\bMaster(?:'s)?|\\bPh\\.D)\\s(?:\\w+\\s)*\\w+|B\\.[A-Za-z]+\", s)\n",
    "\n",
    "def extract_education_from_resume(s):\n",
    "    education = []\n",
    "    pattern = r\"(?i)(?:Bsc|\\bM\\.\\[A-Za-z]+|\\bPh\\.D\\.\\[A-Za-z]+|\\bBachelor(?:'s)?|\\bBachelors(?:'s)?|\\bMaster(?:'s)?|\\bMasters(?:'s)?|\\bPh\\.D)\\s(?:\\w+\\s)*\\w+|B\\.[A-Za-z]+\"\n",
    "    matches = re.findall(pattern, s)\n",
    "    for match in matches:\n",
    "        education.append(match.strip())\n",
    "    return education"
   ]
  },
  {
   "cell_type": "code",
   "execution_count": 8,
   "id": "ace5b763",
   "metadata": {},
   "outputs": [],
   "source": [
    "#Extraction of GPA\n",
    "#match = re.findall([0-9]+\\.\\d?(\\d))\n",
    "\n",
    "def extract_gpa_from_resume(s):\n",
    "    gpa = None\n",
    "    pattern = r'[0-9]+\\.\\d?(\\d)'\n",
    "    match = re.search(pattern,s)\n",
    "    if match:\n",
    "        gpa = match.group()\n",
    "    return gpa"
   ]
  },
  {
   "cell_type": "code",
   "execution_count": 9,
   "id": "d838fb44",
   "metadata": {},
   "outputs": [],
   "source": [
    "#Extraction of Skills\n",
    "def extract_skills_from_resume(s, skills_list):\n",
    "    skills = []\n",
    "    for skill in skills_list:\n",
    "        pattern = r\"\\b{}\\b\".format(re.escape(skill))\n",
    "        match = re.search(pattern, s, re.IGNORECASE)\n",
    "        if match:\n",
    "            skills.append(skill)\n",
    "    return skills"
   ]
  },
  {
   "cell_type": "markdown",
   "id": "771c088f",
   "metadata": {},
   "source": [
    "#### 4. Load job descriptions into python dictionaries."
   ]
  },
  {
   "cell_type": "code",
   "execution_count": 10,
   "id": "1ec46cca",
   "metadata": {},
   "outputs": [],
   "source": [
    "#key: job role, values: skill requirements\n",
    "\n",
    "jobRoles = {\n",
    "    'Frontend Engineer' : ['frontend','HTML', 'HTML5', 'CSS', 'CSS3', 'React','ReactJS','Angular','AngularJS','jQuery','Frameworks','Version Control','Responsive Design','UI','UX','UI/UX','REST','SEO','Communication','Teamwork','Creativity','Problem Solving','Quick Learner','Attention to Detail','Collaboration','Problem Solving','Writing Skills','Prototype','Troubleshoot','Optimization', 'Graphic Design', 'Testing', 'Debugging','Deployment', 'Web Development','Content Management','Fast Paced','Analytical', 'Multitasking'],\n",
    "    'Backend Engineer' : ['backend','Java','Python','Ruby','Javascript','HTML','HTML5','CSS','CSS3','PHP','Database Management','APIs','Data Structures and Algorithms','CMS','Communication','Teamwork','Collaboration','Problem Solving','Time Management','Critical Thinking','Attention to Detail','Management','Troubleshoot','Debugging','Deployment','Web Development','UI','UX','UI/UX','Collboration','Reusable Code','Analytical','Time Management','Teamwork','Problem Solving'],\n",
    "    'Fullstack Developer' : ['fullstack','HTML','HTML5','CSS','CSS3','JavaScript','XML','jQuery','Java','Python','PHP','C#','React','ReactJS','Angular','AngularJS','Git/Github','APIs','MySQL','MongoDB','Apache','Frameworks','Version Control','Responsive Design','UI/UX','UI','UX','REST','SEO','Communication','Teamwork','Collaboration','Problem Solving','Time Management','Critical Thinking','Attential to Detail','Management','Creativity','Problem Solving','Client Side Architecture','Server Side Architechture','Responsiveness','Responsive Design','Efficiency','Troubleshoot','Debug','Organizational','Analytical'],\n",
    "    'Software Engineer' : ['software','Java','Ruby on Rails','C++','Python','Database Management','Data Structures and Algorithms','Object Oriented Programming','Operating Systems','Frameworks','ORM','SQL','JavaScript','Communication','Critical Thinking','Adaptability','Problem Solving','Teamwork','Collaboration','Time Management','SDLC','Problem Solving','Testing','Feasibility','Integration','Quality Assurance','Troubleshoot','Debug','Deployment','Documentation'],\n",
    "    'Cybersecurity Engineer' : ['cybersecurity','Network Security','Software Testing','Operating Systems','Digital Forensics','Security Auditing','Ethical Hacking','Cloud Security','Communication','Collaboration','Critical Thinking','Adaptability','Problem Solving','Attention to Detail','Security Control','Security Requirements','Performance Reports','Network Data Analysis','Vulnerability Scanning Solutions','Antivirus Software','Security Software'],\n",
    "    'Blockchain Engineer' : ['blockchain','C++', 'Golang', 'Java', 'Cryptography', 'Network Security', 'Data Structures', 'Blockchain Architecture', 'Web Development', 'Communication', 'Collaboration', 'Critical Thinking', 'Adaptability', 'Problem Solving', 'Attention to Detail','Blockchain','Client and Server Side Applications','Software Development','Open Source Projects', 'JavaScript','Data Structures','Cryptography','P2P','Bitcoin','Concurrency','Writing efficient','Safe Multithreaded Code'],\n",
    "    'DevOps Engineer' : ['devops','Python', 'JavaScript', 'Ruby', 'Automation', 'Security', 'Software Testing', 'Linux', 'Scripting', 'System Integration', 'Cloud Skills', 'Risk Assessment', 'CI/CD','Communication', 'Management', 'Collaboration', 'Decision-Making', 'Problem Solving', 'Adaptability','Integrations','Level 2 Technical Support','Backend','Root Cause Analysis','System Troubleshooting','Maintenance','DevOps Engineer','SQL','Teamwork'],\n",
    "    'Android Developer' : ['Android Studio', 'Android SDK', 'Android Testing', 'APIs', 'Java', 'Kotlin', 'XML', 'SQL', 'Firebase', 'JSON', 'Design', 'Git/GitHub', 'UI/UX', 'Version Control', 'Communication', 'Problem Solving', 'Collaboration', 'Time Management','Unit-Test code ','Bug Fixing ','Android','Android SDK','REST', 'JSON','Mobile Development'],\n",
    "    'Database Administrator' : ['dba','SQL', 'LINUX', 'Oracle', 'UNIX', 'Microsoft Access', 'Windows OS', 'HTML','Communication', 'Problem Solving', 'Organization', 'Analytics', 'Business – focus','Design Database ','Implement Database','Data Security', 'Privacy', 'Integrity','Database Administrator','Database Standards ','Data Backup', 'Data Recovery', 'Data Security','Database Design','Documentation','Coding','DBA tools'],\n",
    "    'Data Analyst' : ['SQL', 'R', 'Python', 'Tableau', 'Microsoft Excel', 'Mathematical Skills', 'Data Cleaning','Presentation', 'Critical Thinking', 'Communication', 'Problem Solving','Statistical Techniques','Data Collection Systems', 'Analytics','Data Analyst','Business Data Analyst','Data Models', 'Database Design Development', 'Data Mining','Segmentation Techniques','XML', 'JavaScript', 'ETL frameworks','Excel', 'SPSS', 'SAS','Analytical skills','Queries','Report Writing','Presenting Skills'],\n",
    "    'Data Scientist' : ['Python', 'R', 'SQL', 'Mongo DB', 'MySQL', 'Regression', 'Vector Models', 'Tableau', 'Power BI', 'DS.js', 'BeautifulSoup', 'Pandas', 'Spacy', 'Machine Learning', 'Artificial Intelligence', 'NLP', 'Hadoop', 'Spark','Problem solving', 'Effective Communication', 'Intellectual Curiosity', 'Business Sense','Predictive Models ','Machine Learning Algorithms','Data Visualization','Data Scientist', 'Data Analyst','Data Mining','Scala', 'Java', 'C++','Communication','Presentation Skills'],\n",
    "    'Data Engineer' : ['Python', 'Java', 'Scala', 'PostgreSQL', 'NoSQL', 'Hadoop', 'Spark', 'Apache Kafka', 'Azure', 'Google Cloud', 'Git', 'Amazon Redshift', 'BigQuery','Communication', 'Collaboration', 'Critical Thinking','Prescriptive and Predictive modeling','Algorithms','Prototypes','Data quality and reliability','Data engineer','data models', 'data mining', 'segmentation techniques','Great numerical and analytical skills'],\n",
    "    'Business Analyst' : ['SQL','R','Python','SPSS','SAS','Sage','Mathematics','Excel','Power BI','Tableau','Communication','Presentations','Problem Solving','Critical Thinking','Negotiation','Adaptability','Business Intellect','Reporting and Alerting','System Analysis','Maintain System','Quality Assurace','Visualization','Key Performance Indicators','Reporting','Writing Skills','Technical Writing'],\n",
    "    'Machine Learning Engineer' : ['Statistcal Analysis','Probability','Machine Learning','Model Evaluation','DevOps','CI/CD','AWS','Azure','Google Cloud Platform','Python','C++','Java','Communication','Problem Solving','Adaptability','Data Science Prototypes','Data Representation','Train Systems','Scikit Learn','Tensorflow','Keras','PyTorch','Data Structures','Data Modelling','Software Architecture','MathS','Probability','Python','R','Communication','Teamwork','Analytical Skills','Problem Solving'],\n",
    "    'Artificial Intelligence Engineer' : ['Python', 'Java', 'R', 'C++','JavaScript','SQL','NoSQL','Apache Spark','Hadoop','SparkSQL','Apache Flink', 'Google Cloud Platform','AWS Azure','ML Models','AI Models','Communication','Collboration','Adaptability','Critical Thinking','Problem Solving','Domain Knowledge','Staistical Analysis','Algorithmic Models','Linear Algebra','Probability','Efficient Code','Big Data'],\n",
    "}"
   ]
  },
  {
   "cell_type": "markdown",
   "id": "383ba27c",
   "metadata": {},
   "source": [
    "#### 5. Define functions to match resume text to job description keywords."
   ]
  },
  {
   "cell_type": "code",
   "execution_count": 11,
   "id": "35e301a6",
   "metadata": {},
   "outputs": [],
   "source": [
    "#remove punctuation and stopwords\n",
    "\n",
    "def preprocess_text(text):\n",
    "    tokens = word_tokenize(text)\n",
    "    tokens = [token.lower() for token in tokens]\n",
    "    tokens = [token for token in tokens if token not in string.punctuation]\n",
    "    stop_words = set(stopwords.words('english'))\n",
    "    tokens = [token for token in tokens if token not in stop_words]\n",
    "    return tokens"
   ]
  },
  {
   "cell_type": "code",
   "execution_count": 12,
   "id": "e401a917",
   "metadata": {},
   "outputs": [],
   "source": [
    "def calculate_cosine_similarity(text, keyword_list):\n",
    "    \n",
    "    #convert text and keyword list to strings\n",
    "    text_str = ' '.join(text)\n",
    "    keyword_str = ' '.join(keyword_list)\n",
    "    \n",
    "    #create TF-IDF vectorizer\n",
    "    vectorizer = TfidfVectorizer()  \n",
    "    #fit and transform the text and keyword list\n",
    "    tfidf_matrix = vectorizer.fit_transform([text_str, keyword_str]) \n",
    "    \n",
    "    #calculate cosine similarity\n",
    "    similarity = cosine_similarity(tfidf_matrix)[0, 1]\n",
    "    return similarity"
   ]
  },
  {
   "cell_type": "code",
   "execution_count": 13,
   "id": "41ef1e3a",
   "metadata": {},
   "outputs": [],
   "source": [
    "def calculate_keyword_match(text, keywords):\n",
    "    text_tokens = preprocess_text(text)\n",
    "    keyword_match = {}\n",
    "    for key, values in keywords.items():\n",
    "        #calculate cosine similarity for each keyword list\n",
    "        similarity_scores = [calculate_cosine_similarity(text_tokens, preprocess_text(keyword)) for keyword in values]\n",
    "        \n",
    "        # average similarity score for the keyword list\n",
    "        avg_similarity = sum(similarity_scores) / len(similarity_scores)\n",
    "        keyword_match[key] = avg_similarity\n",
    "        \n",
    "    #sort the dictionary based on average similarity score and return top 3 keys\n",
    "    top_keys = sorted(keyword_match, key=keyword_match.get, reverse=True)[:3]\n",
    "    return top_keys"
   ]
  },
  {
   "cell_type": "markdown",
   "id": "bfaa6332",
   "metadata": {},
   "source": [
    "#### 6. Load a resume and extract information."
   ]
  },
  {
   "cell_type": "code",
   "execution_count": 14,
   "id": "49cfa2bb",
   "metadata": {},
   "outputs": [
    {
     "name": "stdout",
     "output_type": "stream",
     "text": [
      "Kirti Patel\n",
      "\n",
      "A strategic, creative and innovative achiever with 2+ years of experience\n",
      "in web development and creating engaging social media content that\n",
      "resonates with targeted audiences.\n",
      "\n",
      "kirtiipatel4@gmail.com\n",
      "8655204810\n",
      "Mumbai Maharashtra\n",
      "https://www.linkedin.com/in/kirti-patel-\n",
      "843b13220/\n",
      "\n",
      "EXPERIENCE\n",
      "\n",
      "EDUCATION\n",
      "\n",
      "Content Manager (Freelance) , Swacardz\n",
      "\n",
      " Usha Mittal Institute of Technology -\n",
      "\n",
      "May 2023 - Present , Indore\n",
      "\n",
      "●\n",
      "\n",
      "●\n",
      "\n",
      "●\n",
      "\n",
      "Collaborated with the client to develop content strategies tailored to\n",
      "\n",
      "their speciﬁc goals and target audiences.\n",
      "\n",
      "Created and managed high-quality content for social media\n",
      "\n",
      "Conducted thorough research on industry trends and ensured timely\n",
      "\n",
      "delivery of deliverables\n",
      "\n",
      "● Managed content calendar and utilized analytics tools to track\n",
      "\n",
      "content performance and make data-driven decisions for\n",
      "\n",
      "improvement\n",
      "\n",
      "Business Analyst Intern , TTBTE\n",
      "\n",
      "September 2022 - March 2023 , Mumbai\n",
      "\n",
      "Conducted competitive analysis and market research to identify\n",
      "\n",
      "trends and opportunities for business development\n",
      "\n",
      "Assisted in the design and development of Mirum India MarTech\n",
      "\n",
      "Report 2022\n",
      "\n",
      "●\n",
      "\n",
      "●\n",
      "\n",
      "●\n",
      "\n",
      "Mumbai , India (2019 - 2023)\n",
      "\n",
      " Bachelor of Technology\n",
      "\n",
      " GPA: 9.43 / 10\n",
      "\n",
      " SKILLS\n",
      "\n",
      "●\n",
      "\n",
      "●\n",
      "\n",
      "Search Engine Optimization\n",
      "\n",
      "Email marketing\n",
      "\n",
      "● Wordpress & Shopify\n",
      "\n",
      "development\n",
      "\n",
      "●\n",
      "\n",
      "Content Creation & Editing\n",
      "\n",
      "● Graphic designing\n",
      "\n",
      "● React JS\n",
      "\n",
      "● Google Suites\n",
      "\n",
      "Created and delivered visual assets , including logos , marketing\n",
      "\n",
      "materials , social media graphics and website elements .\n",
      "\n",
      "EXTRA CURRICULAR\n",
      "\n",
      "● Developed and executed email strategies to increase community\n",
      "\n",
      "● General Secretary of UMIT\n",
      "\n",
      "engagement on social media platforms and online forums.\n",
      "● Helped in preparing pitch decks and deployed a website using\n",
      "\n",
      "wordpress\n",
      "\n",
      "Web development Intern, The Mood Collective\n",
      "\n",
      "October 2021 - December 2021, Mumbai\n",
      "\n",
      "● Utilized the shopify development tools to create and maintain a\n",
      "\n",
      "responsive and user-friendly website\n",
      "\n",
      "●\n",
      "\n",
      "●\n",
      "\n",
      "●\n",
      "\n",
      "Conducted thorough testing and debugging to identify and resolve\n",
      "\n",
      "technical issues, improving website functionality and overall user\n",
      "\n",
      "experience\n",
      "\n",
      "Contributed to the search engine optimization of the websites for\n",
      "\n",
      "improved performance and faster loading times\n",
      "\n",
      "Actively participated in team meetings , providing valuable insights\n",
      "\n",
      "and suggestions for social media content\n",
      "\n",
      "●\n",
      "\n",
      "●\n",
      "\n",
      "●\n",
      "\n",
      "Volunteer Mumbai Comic Con\n",
      "\n",
      "Chief Editor of UMIT Writers’\n",
      "Club\n",
      "\n",
      "Student Coordinator at UMIT\n",
      "Training and Placement Cell\n",
      "\n",
      "● University level elocution &\n",
      "\n",
      "debate winner\n",
      "\n",
      "●\n",
      "\n",
      "Awarded as most conﬁdent\n",
      "leader at university level\n",
      "Leadership Camp\n",
      "\n",
      "●\n",
      "\n",
      "Volunteer at BRM\n",
      "\n",
      "● Head of photography for\n",
      "\n",
      "student council\n",
      "\n",
      "●\n",
      "\n",
      "Volunteer at NSS\n",
      "\n",
      " \n",
      "\f",
      "\f",
      "\n"
     ]
    }
   ],
   "source": [
    "res1=r\"Resume_Kirti_Patel - Kirti Patel.pdf\"\n",
    "s1 = extract_text_from_pdf(res1)\n",
    "print(s1)"
   ]
  },
  {
   "cell_type": "code",
   "execution_count": 15,
   "id": "757d17af",
   "metadata": {},
   "outputs": [
    {
     "name": "stdout",
     "output_type": "stream",
     "text": [
      "Name: Kirti Patel\n",
      "Contact Number: 8655204810\n",
      "Email: kirtiipatel4@gmail.com\n",
      "Education: ['Bachelor of Technology']\n",
      "CGPA: 9.43\n",
      "Skills that match specified role: ['React', 'Optimization', 'Testing', 'Debugging', 'Web Development']\n",
      "Top roles that match candidate skills: ['Frontend Engineer', 'Data Analyst', 'Blockchain Engineer']\n"
     ]
    }
   ],
   "source": [
    "#basic information\n",
    "\n",
    "print(\"Name:\", extract_name_from_resume(s1))\n",
    "print(\"Contact Number:\", extract_contact_number_from_resume(s1))\n",
    "print(\"Email:\", extract_email_from_resume(s1))\n",
    "print(\"Education:\", extract_education_from_resume(s1))\n",
    "print(\"CGPA:\", extract_gpa_from_resume(s1))\n",
    "\n",
    "#skills for a specific role\n",
    "skills_list =  ['frontend','HTML', 'HTML5', 'CSS', 'CSS3', 'React','ReactJS','Angular','AngularJS','jQuery','Frameworks','Version Control','Responsive Design','UI','UX','UI/UX','REST','SEO','Communication','Teamwork','Creativity','Problem Solving','Quick Learner','Attention to Detail','Collaboration','Problem Solving','Writing Skills','Prototype','Troubleshoot','Optimization', 'Graphic Design', 'Testing', 'Debugging','Deployment', 'Web Development','Content Management','Fast Paced','Analytical', 'Multitasking']\n",
    "print(\"Skills that match specified role:\", extract_skills_from_resume(s1, skills_list))\n",
    "\n",
    "#roles that match candidate skills\n",
    "print(\"Top roles that match candidate skills:\", calculate_keyword_match(s1, jobRoles))"
   ]
  },
  {
   "cell_type": "markdown",
   "id": "5fec6b10",
   "metadata": {},
   "source": [
    "#### 7. Connect to SQLite and create a database."
   ]
  },
  {
   "cell_type": "code",
   "execution_count": 16,
   "id": "ada397f9",
   "metadata": {},
   "outputs": [],
   "source": [
    "import csv, sqlite3\n",
    "\n",
    "con = sqlite3.connect(\"SQLiteMagic.db\")\n",
    "cur = con.cursor()"
   ]
  },
  {
   "cell_type": "code",
   "execution_count": 17,
   "id": "7239a153",
   "metadata": {},
   "outputs": [],
   "source": [
    "%load_ext sql"
   ]
  },
  {
   "cell_type": "code",
   "execution_count": 18,
   "id": "ac139b38",
   "metadata": {},
   "outputs": [],
   "source": [
    "%sql sqlite:///SQLiteMagic.db"
   ]
  },
  {
   "cell_type": "code",
   "execution_count": 20,
   "id": "9449d913",
   "metadata": {},
   "outputs": [
    {
     "name": "stdout",
     "output_type": "stream",
     "text": [
      " * sqlite:///SQLiteMagic.db\n",
      "Done.\n"
     ]
    },
    {
     "data": {
      "text/plain": [
       "[]"
      ]
     },
     "execution_count": 20,
     "metadata": {},
     "output_type": "execute_result"
    }
   ],
   "source": [
    "%%sql\n",
    "\n",
    "CREATE TABLE CANDIDATES (\n",
    "Name VARCHAR(50),\n",
    "Contact_Number VARCHAR(15),\n",
    "Email TEXT,\n",
    "Education TEXT,\n",
    "CGPA REAL,\n",
    "Role1 TEXT,\n",
    "Role2 TEXT,\n",
    "Role3 TEXT\n",
    ");"
   ]
  },
  {
   "cell_type": "code",
   "execution_count": 21,
   "id": "3dd3b488",
   "metadata": {},
   "outputs": [
    {
     "name": "stdout",
     "output_type": "stream",
     "text": [
      " * sqlite:///SQLiteMagic.db\n",
      "1 rows affected.\n"
     ]
    },
    {
     "data": {
      "text/plain": [
       "[]"
      ]
     },
     "execution_count": 21,
     "metadata": {},
     "output_type": "execute_result"
    }
   ],
   "source": [
    "%%sql\n",
    "\n",
    "INSERT INTO CANDIDATES(Name, Contact_Number, Email, Education, CGPA, Role1, Role2, Role3) \n",
    "VALUES ('Kirti Patel', 8655204810, 'kirtiipatel4@gmail.com','Bachelor of Technology', 9.43, 'Frontend Engineer','Data Analyst', 'Blockchain Engineer');"
   ]
  },
  {
   "cell_type": "markdown",
   "id": "23e8b374",
   "metadata": {},
   "source": [
    "#### 8. Extract and store information from more resumes."
   ]
  },
  {
   "cell_type": "code",
   "execution_count": 22,
   "id": "1aeaaeff",
   "metadata": {},
   "outputs": [
    {
     "name": "stdout",
     "output_type": "stream",
     "text": [
      "Name: Vansh Mehra\n",
      "Contact Number: 9711982402\n",
      "Email: vansh_m@ch.iitr.ac.in\n",
      "Education: ['B.Tech', 'B.Tech']\n",
      "CGPA: 8.17\n",
      "Top roles that match candidate skills: ['Data Analyst', 'Data Engineer', 'Data Scientist']\n"
     ]
    }
   ],
   "source": [
    "res2=r\"Vansh Verified Resume - Vansh Mehra.pdf\"\n",
    "s2 = extract_text_from_pdf(res2)\n",
    "print(\"Name:\", extract_name_from_resume(s2))\n",
    "print(\"Contact Number:\", extract_contact_number_from_resume(s2))\n",
    "print(\"Email:\", extract_email_from_resume(s2))\n",
    "print(\"Education:\", extract_education_from_resume(s2))\n",
    "print(\"CGPA:\", extract_gpa_from_resume(s2))\n",
    "print(\"Top roles that match candidate skills:\", calculate_keyword_match(s2, jobRoles))"
   ]
  },
  {
   "cell_type": "code",
   "execution_count": 23,
   "id": "61fcb33a",
   "metadata": {},
   "outputs": [
    {
     "name": "stdout",
     "output_type": "stream",
     "text": [
      "Name: Email Id\n",
      "Contact Number: 9653392978\n",
      "Email: zenianouphal5@gmail.com\n",
      "Education: ['B.Tech']\n",
      "CGPA: 9.17\n",
      "Top roles that match candidate skills: ['Data Analyst', 'Business Analyst', 'Data Engineer']\n"
     ]
    }
   ],
   "source": [
    "res3=r\"ZeniaNouphalResume - Zenia Nouphal.pdf\"\n",
    "s3 = extract_text_from_pdf(res3)\n",
    "print(\"Name:\", extract_name_from_resume(s3))\n",
    "print(\"Contact Number:\", extract_contact_number_from_resume(s3))\n",
    "print(\"Email:\", extract_email_from_resume(s3))\n",
    "print(\"Education:\", extract_education_from_resume(s3))\n",
    "print(\"CGPA:\", extract_gpa_from_resume(s3))\n",
    "print(\"Top roles that match candidate skills:\", calculate_keyword_match(s3, jobRoles))"
   ]
  },
  {
   "cell_type": "code",
   "execution_count": 24,
   "id": "61619697",
   "metadata": {},
   "outputs": [
    {
     "name": "stdout",
     "output_type": "stream",
     "text": [
      "Name: Contact No\n",
      "Contact Number: 8425808902\n",
      "Email: mrunalchavan1973@gmail.com\n",
      "Education: ['B.tech', 'B.Tech', 'B.tech', 'B.tech', 'B.tech']\n",
      "CGPA: 8.9\n",
      "Top roles that match candidate skills: ['Data Analyst', 'Machine Learning Engineer', 'Data Engineer']\n"
     ]
    }
   ],
   "source": [
    "res4=r\"Resume_Mrunal11 - MRUNAL CHAVAN.pdf\"\n",
    "s4 = extract_text_from_pdf(res4)\n",
    "print(\"Name:\", extract_name_from_resume(s4))\n",
    "print(\"Contact Number:\", extract_contact_number_from_resume(s4))\n",
    "print(\"Email:\", extract_email_from_resume(s4))\n",
    "print(\"Education:\", extract_education_from_resume(s4))\n",
    "print(\"CGPA:\", extract_gpa_from_resume(s4))\n",
    "print(\"Top roles that match candidate skills:\", calculate_keyword_match(s4, jobRoles))"
   ]
  },
  {
   "cell_type": "code",
   "execution_count": 25,
   "id": "29d65707",
   "metadata": {},
   "outputs": [
    {
     "name": "stdout",
     "output_type": "stream",
     "text": [
      "Name: Sahil Raj\n",
      "Contact Number: 8454800513\n",
      "Email: raj17sahil@gmail.com\n",
      "Education: ['Bachelors of Engineering in Computer Engineering']\n",
      "CGPA: 8.73\n",
      "Top roles that match candidate skills: ['Data Scientist', 'Blockchain Engineer', 'Data Analyst']\n"
     ]
    }
   ],
   "source": [
    "res5=r\"Resume - Rifat Perween.pdf\"\n",
    "s5 = extract_text_from_pdf(res5)\n",
    "print(\"Name:\", extract_name_from_resume(s5))\n",
    "print(\"Contact Number:\", extract_contact_number_from_resume(s5))\n",
    "print(\"Email:\", extract_email_from_resume(s5))\n",
    "print(\"Education:\", extract_education_from_resume(s5))\n",
    "print(\"CGPA:\", extract_gpa_from_resume(s5))\n",
    "print(\"Top roles that match candidate skills:\", calculate_keyword_match(s5, jobRoles))"
   ]
  },
  {
   "cell_type": "code",
   "execution_count": 26,
   "id": "0a47f2aa",
   "metadata": {},
   "outputs": [
    {
     "name": "stdout",
     "output_type": "stream",
     "text": [
      "Name: Janhavi Dixit\n",
      "Contact Number: 9370680015\n",
      "Email: janhavidixit249@gmail.com\n",
      "Education: ['Bachelor of Technology']\n",
      "CGPA: None\n",
      "Top roles that match candidate skills: ['Data Analyst', 'Backend Engineer', 'Database Administrator']\n"
     ]
    }
   ],
   "source": [
    "res6=r\"Janhavi Resume - Janhavi Dixit.pdf\"\n",
    "s6 = extract_text_from_pdf(res6)\n",
    "print(\"Name:\", extract_name_from_resume(s6))\n",
    "print(\"Contact Number:\", extract_contact_number_from_resume(s6))\n",
    "print(\"Email:\", extract_email_from_resume(s6))\n",
    "print(\"Education:\", extract_education_from_resume(s6))\n",
    "print(\"CGPA:\", extract_gpa_from_resume(s6))\n",
    "print(\"Top roles that match candidate skills:\", calculate_keyword_match(s6, jobRoles))"
   ]
  },
  {
   "cell_type": "code",
   "execution_count": 27,
   "id": "dca440d6",
   "metadata": {},
   "outputs": [
    {
     "name": "stdout",
     "output_type": "stream",
     "text": [
      "Name: Nikita Shetty\n",
      "Contact Number: 9867332365\n",
      "Email: shettynikit926@gmail.com\n",
      "Education: ['Bachelor of Technology', 'B.Tech', 'Bachelor of Technology']\n",
      "CGPA: 8.71\n",
      "Top roles that match candidate skills: ['Backend Engineer', 'Frontend Engineer', 'Database Administrator']\n"
     ]
    }
   ],
   "source": [
    "res7=r\"Resume-2 - 54_Nikita Shetty_IT3.pdf\"\n",
    "s7 = extract_text_from_pdf(res7)\n",
    "print(\"Name:\", extract_name_from_resume(s7))\n",
    "print(\"Contact Number:\", extract_contact_number_from_resume(s7))\n",
    "print(\"Email:\", extract_email_from_resume(s7))\n",
    "print(\"Education:\", extract_education_from_resume(s7))\n",
    "print(\"CGPA:\", extract_gpa_from_resume(s7))\n",
    "print(\"Top roles that match candidate skills:\", calculate_keyword_match(s7, jobRoles))"
   ]
  },
  {
   "cell_type": "code",
   "execution_count": 28,
   "id": "e542e165",
   "metadata": {},
   "outputs": [
    {
     "name": "stdout",
     "output_type": "stream",
     "text": [
      "Name: Sejal Ramchandrs\n",
      "Contact Number: 7715084590\n",
      "Email: sejallondhe14@gmail.com\n",
      "Education: []\n",
      "CGPA: 7.66\n",
      "Top roles that match candidate skills: ['Data Analyst', 'Backend Engineer', 'Business Analyst']\n"
     ]
    }
   ],
   "source": [
    "res8=r\"Sejal Ramchandrs Londhe  - Resume - 28_DS_sejal Londhe.pdf\"\n",
    "s8 = extract_text_from_pdf(res8)\n",
    "print(\"Name:\", extract_name_from_resume(s8))\n",
    "print(\"Contact Number:\", extract_contact_number_from_resume(s8))\n",
    "print(\"Email:\", extract_email_from_resume(s8))\n",
    "print(\"Education:\", extract_education_from_resume(s8))\n",
    "print(\"CGPA:\", extract_gpa_from_resume(s8))\n",
    "print(\"Top roles that match candidate skills:\", calculate_keyword_match(s8, jobRoles))"
   ]
  },
  {
   "cell_type": "code",
   "execution_count": 29,
   "id": "72f6f144",
   "metadata": {},
   "outputs": [
    {
     "name": "stdout",
     "output_type": "stream",
     "text": [
      "Name: Usha Mittal\n",
      "Contact Number: 9351031867\n",
      "Email: shriyaraina556@gmail.com\n",
      "Education: ['Bachelor of Technology', 'B.Tech']\n",
      "CGPA: 7.35\n",
      "Top roles that match candidate skills: ['Frontend Engineer', 'Data Analyst', 'Backend Engineer']\n"
     ]
    }
   ],
   "source": [
    "res9=r\"Shriya Raina_Resume23 B1 - 48_Shriya Raina_IT.pdf\"\n",
    "s9 = extract_text_from_pdf(res9)\n",
    "print(\"Name:\", extract_name_from_resume(s9))\n",
    "print(\"Contact Number:\", extract_contact_number_from_resume(s9))\n",
    "print(\"Email:\", extract_email_from_resume(s9))\n",
    "print(\"Education:\", extract_education_from_resume(s9))\n",
    "print(\"CGPA:\", extract_gpa_from_resume(s9))\n",
    "print(\"Top roles that match candidate skills:\", calculate_keyword_match(s9, jobRoles))"
   ]
  },
  {
   "cell_type": "code",
   "execution_count": 30,
   "id": "7c6e9140",
   "metadata": {},
   "outputs": [
    {
     "name": "stdout",
     "output_type": "stream",
     "text": [
      "Name: Purva Atul\n",
      "Contact Number: 9620538301\n",
      "Email: purvap0078@gmail.com\n",
      "Education: []\n",
      "CGPA: None\n",
      "Top roles that match candidate skills: ['Data Analyst', 'Data Scientist', 'Machine Learning Engineer']\n"
     ]
    }
   ],
   "source": [
    "res10=r\"Resume New - Purva Patil.pdf\"\n",
    "s10 = extract_text_from_pdf(res10)\n",
    "print(\"Name:\", extract_name_from_resume(s10))\n",
    "print(\"Contact Number:\", extract_contact_number_from_resume(s10))\n",
    "print(\"Email:\", extract_email_from_resume(s10))\n",
    "print(\"Education:\", extract_education_from_resume(s10))\n",
    "print(\"CGPA:\", extract_gpa_from_resume(s10))\n",
    "print(\"Top roles that match candidate skills:\", calculate_keyword_match(s10, jobRoles))"
   ]
  },
  {
   "cell_type": "code",
   "execution_count": 31,
   "id": "b22ba51d",
   "metadata": {},
   "outputs": [
    {
     "name": "stdout",
     "output_type": "stream",
     "text": [
      "Name: Nidhi Mavji\n",
      "Contact Number: 9892700632\n",
      "Email: nidhiravariya256@gmail.com\n",
      "Education: ['B.Tech', 'Bachelor of Technology']\n",
      "CGPA: 7.51\n",
      "Top roles that match candidate skills: ['Data Analyst', 'Business Analyst', 'Machine Learning Engineer']\n"
     ]
    }
   ],
   "source": [
    "res11=r\"Nidhi Ravaria - 59_DS_Nidhi_ Ravariya.pdf\"\n",
    "s11 = extract_text_from_pdf(res11)\n",
    "print(\"Name:\", extract_name_from_resume(s11))\n",
    "print(\"Contact Number:\", extract_contact_number_from_resume(s11))\n",
    "print(\"Email:\", extract_email_from_resume(s11))\n",
    "print(\"Education:\", extract_education_from_resume(s11))\n",
    "print(\"CGPA:\", extract_gpa_from_resume(s11))\n",
    "print(\"Top roles that match candidate skills:\", calculate_keyword_match(s11, jobRoles))"
   ]
  },
  {
   "cell_type": "code",
   "execution_count": 32,
   "id": "af28b6c3",
   "metadata": {},
   "outputs": [
    {
     "name": "stdout",
     "output_type": "stream",
     "text": [
      " * sqlite:///SQLiteMagic.db\n",
      "10 rows affected.\n"
     ]
    },
    {
     "data": {
      "text/plain": [
       "[]"
      ]
     },
     "execution_count": 32,
     "metadata": {},
     "output_type": "execute_result"
    }
   ],
   "source": [
    "%%sql\n",
    "\n",
    "INSERT INTO CANDIDATES(Name, Contact_Number, Email, Education, CGPA, Role1, Role2, Role3) \n",
    "VALUES ('Vansh Mehra', 9711982402, 'vansh_m@iitr.ac.in','B.Tech', 8.17, 'Data Analyst','Data  Engineer', 'Data Scientist'),\n",
    "('Zenia Nouphal', 9653392978, 'zenianouphal5@gmail.com','B.Tech', 9.43, 'Data Analyst','Business Analyst', 'Data Engineer'),\n",
    "('Mrunal Chavan', 8425808902, 'mrunalchavan1973@gmail.com','B.Tech', 8.9, 'Data Analyst','Machine Learning Engineer', 'Data Engineer'),\n",
    "('Sahil Raj', 8454800513, 'raj17sahil@gmail.com','Bachelor of Engineering', 8.73, 'Data Scientist','Blockchain Engineer', 'Data Analyst'),\n",
    "('Janhavi Dixit', 9370680015, 'janhavidixit249@gmail.com','Bachelor of Technology', 0.00, 'Data Analyst','Backend Engineer', 'Database Administrator'),\n",
    "('Nikita Shetty', 9867332365, 'shettynikita926@gmail.com','Bachelor of Technology', 8.71, 'Backend Engineer','Frontend Engineer', 'Database Administrator'),\n",
    "('Sejal Londhe', 7715084590, 'sejallondhe14@gmail.com','Null', 7.66, 'Data Analyst','Backend Engineer', 'Business Analyst'),\n",
    "('Shriya Raina', 9351031867, 'shriyaraina556@gmail.com','Bachelor of Technology', 7.65, 'Frontend Engineer','Data Analyst', 'Backend Engineer'),\n",
    "('Purva Patil', 9620538301, 'purvap0078@gmail.com','Null', 0.00, 'Data Analyst','Data Scientist', 'Machine Learning Engineer'),\n",
    "('Nidhi Ravariya', 9892700632, 'nidhiravariya256@gmail.com','B.Tech', 7.51, 'Data Analyst','Business Analyst', 'Machine Learning Engineer');"
   ]
  },
  {
   "cell_type": "markdown",
   "id": "ff272e3b",
   "metadata": {},
   "source": [
    "#### 9. Query the table as per requirement."
   ]
  },
  {
   "cell_type": "code",
   "execution_count": 34,
   "id": "4b8c0ae1",
   "metadata": {},
   "outputs": [
    {
     "name": "stdout",
     "output_type": "stream",
     "text": [
      " * sqlite:///SQLiteMagic.db\n",
      "Done.\n"
     ]
    },
    {
     "data": {
      "text/html": [
       "<table>\n",
       "    <thead>\n",
       "        <tr>\n",
       "            <th>Name</th>\n",
       "            <th>Contact_Number</th>\n",
       "            <th>Email</th>\n",
       "            <th>Education</th>\n",
       "            <th>CGPA</th>\n",
       "            <th>Role1</th>\n",
       "            <th>Role2</th>\n",
       "            <th>Role3</th>\n",
       "        </tr>\n",
       "    </thead>\n",
       "    <tbody>\n",
       "        <tr>\n",
       "            <td>Kirti Patel</td>\n",
       "            <td>8655204810</td>\n",
       "            <td>kirtiipatel4@gmail.com</td>\n",
       "            <td>Bachelor of Technology</td>\n",
       "            <td>9.43</td>\n",
       "            <td>Frontend Engineer</td>\n",
       "            <td>Data Analyst</td>\n",
       "            <td>Blockchain Engineer</td>\n",
       "        </tr>\n",
       "        <tr>\n",
       "            <td>Vansh Mehra</td>\n",
       "            <td>9711982402</td>\n",
       "            <td>vansh_m@iitr.ac.in</td>\n",
       "            <td>B.Tech</td>\n",
       "            <td>8.17</td>\n",
       "            <td>Data Analyst</td>\n",
       "            <td>Data  Engineer</td>\n",
       "            <td>Data Scientist</td>\n",
       "        </tr>\n",
       "        <tr>\n",
       "            <td>Zenia Nouphal</td>\n",
       "            <td>9653392978</td>\n",
       "            <td>zenianouphal5@gmail.com</td>\n",
       "            <td>B.Tech</td>\n",
       "            <td>9.43</td>\n",
       "            <td>Data Analyst</td>\n",
       "            <td>Business Analyst</td>\n",
       "            <td>Data Engineer</td>\n",
       "        </tr>\n",
       "        <tr>\n",
       "            <td>Mrunal Chavan</td>\n",
       "            <td>8425808902</td>\n",
       "            <td>mrunalchavan1973@gmail.com</td>\n",
       "            <td>B.Tech</td>\n",
       "            <td>8.9</td>\n",
       "            <td>Data Analyst</td>\n",
       "            <td>Machine Learning Engineer</td>\n",
       "            <td>Data Engineer</td>\n",
       "        </tr>\n",
       "        <tr>\n",
       "            <td>Sahil Raj</td>\n",
       "            <td>8454800513</td>\n",
       "            <td>raj17sahil@gmail.com</td>\n",
       "            <td>Bachelor of Engineering</td>\n",
       "            <td>8.73</td>\n",
       "            <td>Data Scientist</td>\n",
       "            <td>Blockchain Engineer</td>\n",
       "            <td>Data Analyst</td>\n",
       "        </tr>\n",
       "        <tr>\n",
       "            <td>Nikita Shetty</td>\n",
       "            <td>9867332365</td>\n",
       "            <td>shettynikita926@gmail.com</td>\n",
       "            <td>Bachelor of Technology</td>\n",
       "            <td>8.71</td>\n",
       "            <td>Backend Engineer</td>\n",
       "            <td>Frontend Engineer</td>\n",
       "            <td>Database Administrator</td>\n",
       "        </tr>\n",
       "    </tbody>\n",
       "</table>"
      ],
      "text/plain": [
       "[('Kirti Patel', '8655204810', 'kirtiipatel4@gmail.com', 'Bachelor of Technology', 9.43, 'Frontend Engineer', 'Data Analyst', 'Blockchain Engineer'),\n",
       " ('Vansh Mehra', '9711982402', 'vansh_m@iitr.ac.in', 'B.Tech', 8.17, 'Data Analyst', 'Data  Engineer', 'Data Scientist'),\n",
       " ('Zenia Nouphal', '9653392978', 'zenianouphal5@gmail.com', 'B.Tech', 9.43, 'Data Analyst', 'Business Analyst', 'Data Engineer'),\n",
       " ('Mrunal Chavan', '8425808902', 'mrunalchavan1973@gmail.com', 'B.Tech', 8.9, 'Data Analyst', 'Machine Learning Engineer', 'Data Engineer'),\n",
       " ('Sahil Raj', '8454800513', 'raj17sahil@gmail.com', 'Bachelor of Engineering', 8.73, 'Data Scientist', 'Blockchain Engineer', 'Data Analyst'),\n",
       " ('Nikita Shetty', '9867332365', 'shettynikita926@gmail.com', 'Bachelor of Technology', 8.71, 'Backend Engineer', 'Frontend Engineer', 'Database Administrator')]"
      ]
     },
     "execution_count": 34,
     "metadata": {},
     "output_type": "execute_result"
    }
   ],
   "source": [
    "%%sql \n",
    "\n",
    "SELECT * FROM CANDIDATES WHERE CGPA > 8.0;"
   ]
  },
  {
   "cell_type": "code",
   "execution_count": 35,
   "id": "208f7484",
   "metadata": {},
   "outputs": [
    {
     "name": "stdout",
     "output_type": "stream",
     "text": [
      " * sqlite:///SQLiteMagic.db\n",
      "Done.\n"
     ]
    },
    {
     "data": {
      "text/html": [
       "<table>\n",
       "    <thead>\n",
       "        <tr>\n",
       "            <th>Name</th>\n",
       "            <th>Contact_Number</th>\n",
       "            <th>Email</th>\n",
       "            <th>Education</th>\n",
       "            <th>CGPA</th>\n",
       "            <th>Role1</th>\n",
       "            <th>Role2</th>\n",
       "            <th>Role3</th>\n",
       "        </tr>\n",
       "    </thead>\n",
       "    <tbody>\n",
       "        <tr>\n",
       "            <td>Vansh Mehra</td>\n",
       "            <td>9711982402</td>\n",
       "            <td>vansh_m@iitr.ac.in</td>\n",
       "            <td>B.Tech</td>\n",
       "            <td>8.17</td>\n",
       "            <td>Data Analyst</td>\n",
       "            <td>Data  Engineer</td>\n",
       "            <td>Data Scientist</td>\n",
       "        </tr>\n",
       "        <tr>\n",
       "            <td>Zenia Nouphal</td>\n",
       "            <td>9653392978</td>\n",
       "            <td>zenianouphal5@gmail.com</td>\n",
       "            <td>B.Tech</td>\n",
       "            <td>9.43</td>\n",
       "            <td>Data Analyst</td>\n",
       "            <td>Business Analyst</td>\n",
       "            <td>Data Engineer</td>\n",
       "        </tr>\n",
       "        <tr>\n",
       "            <td>Mrunal Chavan</td>\n",
       "            <td>8425808902</td>\n",
       "            <td>mrunalchavan1973@gmail.com</td>\n",
       "            <td>B.Tech</td>\n",
       "            <td>8.9</td>\n",
       "            <td>Data Analyst</td>\n",
       "            <td>Machine Learning Engineer</td>\n",
       "            <td>Data Engineer</td>\n",
       "        </tr>\n",
       "        <tr>\n",
       "            <td>Janhavi Dixit</td>\n",
       "            <td>9370680015</td>\n",
       "            <td>janhavidixit249@gmail.com</td>\n",
       "            <td>Bachelor of Technology</td>\n",
       "            <td>0.0</td>\n",
       "            <td>Data Analyst</td>\n",
       "            <td>Backend Engineer</td>\n",
       "            <td>Database Administrator</td>\n",
       "        </tr>\n",
       "        <tr>\n",
       "            <td>Sejal Londhe</td>\n",
       "            <td>7715084590</td>\n",
       "            <td>sejallondhe14@gmail.com</td>\n",
       "            <td>Null</td>\n",
       "            <td>7.66</td>\n",
       "            <td>Data Analyst</td>\n",
       "            <td>Backend Engineer</td>\n",
       "            <td>Business Analyst</td>\n",
       "        </tr>\n",
       "        <tr>\n",
       "            <td>Purva Patil</td>\n",
       "            <td>9620538301</td>\n",
       "            <td>purvap0078@gmail.com</td>\n",
       "            <td>Null</td>\n",
       "            <td>0.0</td>\n",
       "            <td>Data Analyst</td>\n",
       "            <td>Data Scientist</td>\n",
       "            <td>Machine Learning Engineer</td>\n",
       "        </tr>\n",
       "        <tr>\n",
       "            <td>Nidhi Ravariya</td>\n",
       "            <td>9892700632</td>\n",
       "            <td>nidhiravariya256@gmail.com</td>\n",
       "            <td>B.Tech</td>\n",
       "            <td>7.51</td>\n",
       "            <td>Data Analyst</td>\n",
       "            <td>Business Analyst</td>\n",
       "            <td>Machine Learning Engineer</td>\n",
       "        </tr>\n",
       "    </tbody>\n",
       "</table>"
      ],
      "text/plain": [
       "[('Vansh Mehra', '9711982402', 'vansh_m@iitr.ac.in', 'B.Tech', 8.17, 'Data Analyst', 'Data  Engineer', 'Data Scientist'),\n",
       " ('Zenia Nouphal', '9653392978', 'zenianouphal5@gmail.com', 'B.Tech', 9.43, 'Data Analyst', 'Business Analyst', 'Data Engineer'),\n",
       " ('Mrunal Chavan', '8425808902', 'mrunalchavan1973@gmail.com', 'B.Tech', 8.9, 'Data Analyst', 'Machine Learning Engineer', 'Data Engineer'),\n",
       " ('Janhavi Dixit', '9370680015', 'janhavidixit249@gmail.com', 'Bachelor of Technology', 0.0, 'Data Analyst', 'Backend Engineer', 'Database Administrator'),\n",
       " ('Sejal Londhe', '7715084590', 'sejallondhe14@gmail.com', 'Null', 7.66, 'Data Analyst', 'Backend Engineer', 'Business Analyst'),\n",
       " ('Purva Patil', '9620538301', 'purvap0078@gmail.com', 'Null', 0.0, 'Data Analyst', 'Data Scientist', 'Machine Learning Engineer'),\n",
       " ('Nidhi Ravariya', '9892700632', 'nidhiravariya256@gmail.com', 'B.Tech', 7.51, 'Data Analyst', 'Business Analyst', 'Machine Learning Engineer')]"
      ]
     },
     "execution_count": 35,
     "metadata": {},
     "output_type": "execute_result"
    }
   ],
   "source": [
    "%%sql \n",
    "\n",
    "SELECT * FROM CANDIDATES WHERE Role1 == 'Data Analyst';"
   ]
  },
  {
   "cell_type": "code",
   "execution_count": 36,
   "id": "8fe53ca3",
   "metadata": {},
   "outputs": [
    {
     "name": "stdout",
     "output_type": "stream",
     "text": [
      " * sqlite:///SQLiteMagic.db\n",
      "Done.\n"
     ]
    },
    {
     "data": {
      "text/html": [
       "<table>\n",
       "    <thead>\n",
       "        <tr>\n",
       "            <th>Name</th>\n",
       "            <th>Contact_Number</th>\n",
       "            <th>Email</th>\n",
       "            <th>Education</th>\n",
       "            <th>CGPA</th>\n",
       "            <th>Role1</th>\n",
       "            <th>Role2</th>\n",
       "            <th>Role3</th>\n",
       "        </tr>\n",
       "    </thead>\n",
       "    <tbody>\n",
       "        <tr>\n",
       "            <td>Vansh Mehra</td>\n",
       "            <td>9711982402</td>\n",
       "            <td>vansh_m@iitr.ac.in</td>\n",
       "            <td>B.Tech</td>\n",
       "            <td>8.17</td>\n",
       "            <td>Data Analyst</td>\n",
       "            <td>Data  Engineer</td>\n",
       "            <td>Data Scientist</td>\n",
       "        </tr>\n",
       "        <tr>\n",
       "            <td>Zenia Nouphal</td>\n",
       "            <td>9653392978</td>\n",
       "            <td>zenianouphal5@gmail.com</td>\n",
       "            <td>B.Tech</td>\n",
       "            <td>9.43</td>\n",
       "            <td>Data Analyst</td>\n",
       "            <td>Business Analyst</td>\n",
       "            <td>Data Engineer</td>\n",
       "        </tr>\n",
       "        <tr>\n",
       "            <td>Mrunal Chavan</td>\n",
       "            <td>8425808902</td>\n",
       "            <td>mrunalchavan1973@gmail.com</td>\n",
       "            <td>B.Tech</td>\n",
       "            <td>8.9</td>\n",
       "            <td>Data Analyst</td>\n",
       "            <td>Machine Learning Engineer</td>\n",
       "            <td>Data Engineer</td>\n",
       "        </tr>\n",
       "        <tr>\n",
       "            <td>Nidhi Ravariya</td>\n",
       "            <td>9892700632</td>\n",
       "            <td>nidhiravariya256@gmail.com</td>\n",
       "            <td>B.Tech</td>\n",
       "            <td>7.51</td>\n",
       "            <td>Data Analyst</td>\n",
       "            <td>Business Analyst</td>\n",
       "            <td>Machine Learning Engineer</td>\n",
       "        </tr>\n",
       "    </tbody>\n",
       "</table>"
      ],
      "text/plain": [
       "[('Vansh Mehra', '9711982402', 'vansh_m@iitr.ac.in', 'B.Tech', 8.17, 'Data Analyst', 'Data  Engineer', 'Data Scientist'),\n",
       " ('Zenia Nouphal', '9653392978', 'zenianouphal5@gmail.com', 'B.Tech', 9.43, 'Data Analyst', 'Business Analyst', 'Data Engineer'),\n",
       " ('Mrunal Chavan', '8425808902', 'mrunalchavan1973@gmail.com', 'B.Tech', 8.9, 'Data Analyst', 'Machine Learning Engineer', 'Data Engineer'),\n",
       " ('Nidhi Ravariya', '9892700632', 'nidhiravariya256@gmail.com', 'B.Tech', 7.51, 'Data Analyst', 'Business Analyst', 'Machine Learning Engineer')]"
      ]
     },
     "execution_count": 36,
     "metadata": {},
     "output_type": "execute_result"
    }
   ],
   "source": [
    "%%sql \n",
    "\n",
    "SELECT * FROM CANDIDATES WHERE Education == 'B.Tech';"
   ]
  },
  {
   "cell_type": "code",
   "execution_count": 38,
   "id": "0ceadcbe",
   "metadata": {},
   "outputs": [
    {
     "name": "stdout",
     "output_type": "stream",
     "text": [
      " * sqlite:///SQLiteMagic.db\n",
      "Done.\n"
     ]
    },
    {
     "data": {
      "text/html": [
       "<table>\n",
       "    <thead>\n",
       "        <tr>\n",
       "            <th>Name</th>\n",
       "            <th>Contact_Number</th>\n",
       "            <th>Email</th>\n",
       "            <th>Education</th>\n",
       "            <th>CGPA</th>\n",
       "            <th>Role1</th>\n",
       "            <th>Role2</th>\n",
       "            <th>Role3</th>\n",
       "        </tr>\n",
       "    </thead>\n",
       "    <tbody>\n",
       "        <tr>\n",
       "            <td>Mrunal Chavan</td>\n",
       "            <td>8425808902</td>\n",
       "            <td>mrunalchavan1973@gmail.com</td>\n",
       "            <td>B.Tech</td>\n",
       "            <td>8.9</td>\n",
       "            <td>Data Analyst</td>\n",
       "            <td>Machine Learning Engineer</td>\n",
       "            <td>Data Engineer</td>\n",
       "        </tr>\n",
       "        <tr>\n",
       "            <td>Purva Patil</td>\n",
       "            <td>9620538301</td>\n",
       "            <td>purvap0078@gmail.com</td>\n",
       "            <td>Null</td>\n",
       "            <td>0.0</td>\n",
       "            <td>Data Analyst</td>\n",
       "            <td>Data Scientist</td>\n",
       "            <td>Machine Learning Engineer</td>\n",
       "        </tr>\n",
       "        <tr>\n",
       "            <td>Nidhi Ravariya</td>\n",
       "            <td>9892700632</td>\n",
       "            <td>nidhiravariya256@gmail.com</td>\n",
       "            <td>B.Tech</td>\n",
       "            <td>7.51</td>\n",
       "            <td>Data Analyst</td>\n",
       "            <td>Business Analyst</td>\n",
       "            <td>Machine Learning Engineer</td>\n",
       "        </tr>\n",
       "    </tbody>\n",
       "</table>"
      ],
      "text/plain": [
       "[('Mrunal Chavan', '8425808902', 'mrunalchavan1973@gmail.com', 'B.Tech', 8.9, 'Data Analyst', 'Machine Learning Engineer', 'Data Engineer'),\n",
       " ('Purva Patil', '9620538301', 'purvap0078@gmail.com', 'Null', 0.0, 'Data Analyst', 'Data Scientist', 'Machine Learning Engineer'),\n",
       " ('Nidhi Ravariya', '9892700632', 'nidhiravariya256@gmail.com', 'B.Tech', 7.51, 'Data Analyst', 'Business Analyst', 'Machine Learning Engineer')]"
      ]
     },
     "execution_count": 38,
     "metadata": {},
     "output_type": "execute_result"
    }
   ],
   "source": [
    "%%sql \n",
    "\n",
    "SELECT * FROM CANDIDATES WHERE Role1 == 'Machine Learning Engineer' OR Role2 == 'Machine Learning Engineer' OR Role3 == 'Machine Learning Engineer';"
   ]
  },
  {
   "cell_type": "code",
   "execution_count": null,
   "id": "79ef43e9",
   "metadata": {},
   "outputs": [],
   "source": []
  }
 ],
 "metadata": {
  "kernelspec": {
   "display_name": "Python 3 (ipykernel)",
   "language": "python",
   "name": "python3"
  },
  "language_info": {
   "codemirror_mode": {
    "name": "ipython",
    "version": 3
   },
   "file_extension": ".py",
   "mimetype": "text/x-python",
   "name": "python",
   "nbconvert_exporter": "python",
   "pygments_lexer": "ipython3",
   "version": "3.10.9"
  }
 },
 "nbformat": 4,
 "nbformat_minor": 5
}
